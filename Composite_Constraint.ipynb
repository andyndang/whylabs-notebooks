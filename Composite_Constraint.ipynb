{
  "nbformat": 4,
  "nbformat_minor": 0,
  "metadata": {
    "colab": {
      "provenance": [],
      "authorship_tag": "ABX9TyP4R0HykUUH9mXvbXX+ljll",
      "include_colab_link": true
    },
    "kernelspec": {
      "name": "python3",
      "display_name": "Python 3"
    },
    "language_info": {
      "name": "python"
    }
  },
  "cells": [
    {
      "cell_type": "markdown",
      "metadata": {
        "id": "view-in-github",
        "colab_type": "text"
      },
      "source": [
        "<a href=\"https://colab.research.google.com/github/andyndang/whylabs-notebooks/blob/main/Composite_Constraint.ipynb\" target=\"_parent\"><img src=\"https://colab.research.google.com/assets/colab-badge.svg\" alt=\"Open In Colab\"/></a>"
      ]
    },
    {
      "cell_type": "markdown",
      "source": [
        "# Table of Content\n",
        ">[Installing WhyLabs Toolkit](#updateTitle=true&folderId=19NvqkwKTAE8OrGmHVSFFLJA6nBPxnPMk&scrollTo=JTgD-LhlWgPp)\n",
        "\n",
        ">[Constraint setups](#updateTitle=true&folderId=19NvqkwKTAE8OrGmHVSFFLJA6nBPxnPMk&scrollTo=iCoU6VhrXnPL)\n",
        "\n",
        ">>[Constraint specification](#updateTitle=true&folderId=19NvqkwKTAE8OrGmHVSFFLJA6nBPxnPMk&scrollTo=iCoU6VhrXnPL)\n",
        "\n",
        ">>>[Simple Constraints](#updateTitle=true&folderId=19NvqkwKTAE8OrGmHVSFFLJA6nBPxnPMk&scrollTo=iCoU6VhrXnPL)\n",
        "\n",
        ">>>[Composite Constraints](#updateTitle=true&folderId=19NvqkwKTAE8OrGmHVSFFLJA6nBPxnPMk&scrollTo=iCoU6VhrXnPL)\n",
        "\n",
        ">[Composite analyzers](#updateTitle=true&folderId=19NvqkwKTAE8OrGmHVSFFLJA6nBPxnPMk&scrollTo=4FLewyqUVj1W)\n",
        "\n",
        ">>[Conjuction Constraint](#updateTitle=true&folderId=19NvqkwKTAE8OrGmHVSFFLJA6nBPxnPMk&scrollTo=4FLewyqUVj1W)\n",
        "\n",
        ">>[Disjunction Constraint](#updateTitle=true&folderId=19NvqkwKTAE8OrGmHVSFFLJA6nBPxnPMk&scrollTo=w_jCXsN7W9th)\n",
        "\n"
      ],
      "metadata": {
        "colab_type": "toc",
        "id": "xrEJqFv1XLnK"
      }
    },
    {
      "cell_type": "markdown",
      "source": [
        "# Installing WhyLabs Toolkit\n",
        "\n",
        "[whylabs-toolkit](https://github.com/whylabs/whylabs-toolkit/) provides API helpers to interact with WhyLabs API, especially around the monitoring workflows. You'll first need to install it first"
      ],
      "metadata": {
        "id": "JTgD-LhlWgPp"
      }
    },
    {
      "cell_type": "code",
      "source": [
        "%pip install whylabs_toolkit"
      ],
      "metadata": {
        "colab": {
          "base_uri": "https://localhost:8080/"
        },
        "id": "6TZbnGFBXhek",
        "outputId": "ccb05743-4603-4e27-9823-b0f67b2e8bed"
      },
      "execution_count": 1,
      "outputs": [
        {
          "output_type": "stream",
          "name": "stdout",
          "text": [
            "Collecting whylabs_toolkit\n",
            "  Downloading whylabs_toolkit-0.0.15-py3-none-any.whl (49 kB)\n",
            "\u001b[2K     \u001b[90m━━━━━━━━━━━━━━━━━━━━━━━━━━━━━━━━━━━━━━━━\u001b[0m \u001b[32m49.4/49.4 kB\u001b[0m \u001b[31m1.1 MB/s\u001b[0m eta \u001b[36m0:00:00\u001b[0m\n",
            "\u001b[?25hRequirement already satisfied: jsonschema<5.0.0,>=4.17.3 in /usr/local/lib/python3.10/dist-packages (from whylabs_toolkit) (4.19.1)\n",
            "Requirement already satisfied: pydantic<2.0.0,>=1.10.4 in /usr/local/lib/python3.10/dist-packages (from whylabs_toolkit) (1.10.13)\n",
            "Collecting whylabs-client<0.6,>=0.5 (from whylabs_toolkit)\n",
            "  Downloading whylabs_client-0.5.8-py3-none-any.whl (402 kB)\n",
            "\u001b[2K     \u001b[90m━━━━━━━━━━━━━━━━━━━━━━━━━━━━━━━━━━━━━━━━\u001b[0m \u001b[32m402.2/402.2 kB\u001b[0m \u001b[31m11.9 MB/s\u001b[0m eta \u001b[36m0:00:00\u001b[0m\n",
            "\u001b[?25hCollecting whylogs<2.0.0,>=1.1.26 (from whylabs_toolkit)\n",
            "  Downloading whylogs-1.3.10-py3-none-any.whl (1.9 MB)\n",
            "\u001b[2K     \u001b[90m━━━━━━━━━━━━━━━━━━━━━━━━━━━━━━━━━━━━━━━━\u001b[0m \u001b[32m1.9/1.9 MB\u001b[0m \u001b[31m52.5 MB/s\u001b[0m eta \u001b[36m0:00:00\u001b[0m\n",
            "\u001b[?25hRequirement already satisfied: attrs>=22.2.0 in /usr/local/lib/python3.10/dist-packages (from jsonschema<5.0.0,>=4.17.3->whylabs_toolkit) (23.1.0)\n",
            "Requirement already satisfied: jsonschema-specifications>=2023.03.6 in /usr/local/lib/python3.10/dist-packages (from jsonschema<5.0.0,>=4.17.3->whylabs_toolkit) (2023.7.1)\n",
            "Requirement already satisfied: referencing>=0.28.4 in /usr/local/lib/python3.10/dist-packages (from jsonschema<5.0.0,>=4.17.3->whylabs_toolkit) (0.30.2)\n",
            "Requirement already satisfied: rpds-py>=0.7.1 in /usr/local/lib/python3.10/dist-packages (from jsonschema<5.0.0,>=4.17.3->whylabs_toolkit) (0.10.6)\n",
            "Requirement already satisfied: typing-extensions>=4.2.0 in /usr/local/lib/python3.10/dist-packages (from pydantic<2.0.0,>=1.10.4->whylabs_toolkit) (4.5.0)\n",
            "Requirement already satisfied: urllib3>=1.25.3 in /usr/local/lib/python3.10/dist-packages (from whylabs-client<0.6,>=0.5->whylabs_toolkit) (2.0.7)\n",
            "Requirement already satisfied: python-dateutil in /usr/local/lib/python3.10/dist-packages (from whylabs-client<0.6,>=0.5->whylabs_toolkit) (2.8.2)\n",
            "Requirement already satisfied: platformdirs<4.0.0,>=3.5.0 in /usr/local/lib/python3.10/dist-packages (from whylogs<2.0.0,>=1.1.26->whylabs_toolkit) (3.11.0)\n",
            "Requirement already satisfied: protobuf>=3.19.4 in /usr/local/lib/python3.10/dist-packages (from whylogs<2.0.0,>=1.1.26->whylabs_toolkit) (3.20.3)\n",
            "Requirement already satisfied: requests<3.0,>=2.27 in /usr/local/lib/python3.10/dist-packages (from whylogs<2.0.0,>=1.1.26->whylabs_toolkit) (2.31.0)\n",
            "Collecting types-requests<3.0.0.0,>=2.30.0.0 (from whylogs<2.0.0,>=1.1.26->whylabs_toolkit)\n",
            "  Downloading types_requests-2.31.0.10-py3-none-any.whl (14 kB)\n",
            "Collecting whylogs-sketching>=3.4.1.dev3 (from whylogs<2.0.0,>=1.1.26->whylabs_toolkit)\n",
            "  Downloading whylogs_sketching-3.4.1.dev3-cp310-cp310-manylinux_2_17_x86_64.manylinux2014_x86_64.whl (547 kB)\n",
            "\u001b[2K     \u001b[90m━━━━━━━━━━━━━━━━━━━━━━━━━━━━━━━━━━━━━━━━\u001b[0m \u001b[32m547.3/547.3 kB\u001b[0m \u001b[31m47.8 MB/s\u001b[0m eta \u001b[36m0:00:00\u001b[0m\n",
            "\u001b[?25hRequirement already satisfied: charset-normalizer<4,>=2 in /usr/local/lib/python3.10/dist-packages (from requests<3.0,>=2.27->whylogs<2.0.0,>=1.1.26->whylabs_toolkit) (3.3.0)\n",
            "Requirement already satisfied: idna<4,>=2.5 in /usr/local/lib/python3.10/dist-packages (from requests<3.0,>=2.27->whylogs<2.0.0,>=1.1.26->whylabs_toolkit) (3.4)\n",
            "Requirement already satisfied: certifi>=2017.4.17 in /usr/local/lib/python3.10/dist-packages (from requests<3.0,>=2.27->whylogs<2.0.0,>=1.1.26->whylabs_toolkit) (2023.7.22)\n",
            "Requirement already satisfied: six>=1.5 in /usr/local/lib/python3.10/dist-packages (from python-dateutil->whylabs-client<0.6,>=0.5->whylabs_toolkit) (1.16.0)\n",
            "Installing collected packages: whylogs-sketching, types-requests, whylabs-client, whylogs, whylabs_toolkit\n",
            "Successfully installed types-requests-2.31.0.10 whylabs-client-0.5.8 whylabs_toolkit-0.0.15 whylogs-1.3.10 whylogs-sketching-3.4.1.dev3\n"
          ]
        }
      ]
    },
    {
      "cell_type": "code",
      "source": [
        "import getpass\n",
        "\n",
        "org_id = input(\"Your org ID: \")\n",
        "api_key = getpass.getpass(\"Your API key: \")\n",
        "resource_id = input(\"Your resource/dataset ID: \")"
      ],
      "metadata": {
        "colab": {
          "base_uri": "https://localhost:8080/"
        },
        "id": "e6d-SkMaWAwV",
        "outputId": "cb03ad47-bee6-4e84-a977-8a3b68a9bd07"
      },
      "execution_count": 11,
      "outputs": [
        {
          "name": "stdout",
          "output_type": "stream",
          "text": [
            "Your org ID: org-y7a3n9\n",
            "Your API key: ··········\n",
            "Your resource/dataset ID: model-23\n"
          ]
        }
      ]
    },
    {
      "cell_type": "code",
      "execution_count": 12,
      "metadata": {
        "id": "eUfPpnqbXfrR"
      },
      "outputs": [],
      "source": [
        "import os\n",
        "os.environ[\"ORG_ID\"] = org_id\n",
        "os.environ[\"WHYLABS_API_KEY\"] = api_key\n",
        "os.environ[\"DATASET_ID\"] = resource_id"
      ]
    },
    {
      "cell_type": "code",
      "source": [
        "from whylabs_toolkit.monitor.models import *\n",
        "from whylabs_toolkit.monitor import MonitorSetup\n",
        "from whylabs_toolkit.monitor import MonitorManager"
      ],
      "metadata": {
        "id": "JdUy_j4BXjL9"
      },
      "execution_count": 6,
      "outputs": []
    },
    {
      "cell_type": "markdown",
      "source": [
        "# Constraint setups\n",
        "\n",
        "There are two types of constraints in WhyLabs: **simple constraints** and **composite constraints**.\n",
        "\n",
        "## Constraint specification\n",
        "\n",
        "### Simple Constraints\n",
        "\n",
        "Currewntly we support static threshold constraints (with upper/lower bounds)\n",
        "\n",
        "### Composite Constraints\n",
        "\n",
        "We currently support **conjustion** (`&` or `AND` operator) and **disjunction** (`|` or `OR` operator) composite analyzers. You'll need to create the underlying simple constraints first to create these composite constraints"
      ],
      "metadata": {
        "id": "iCoU6VhrXnPL"
      }
    },
    {
      "cell_type": "code",
      "source": [
        "constraint_1=\"brightness-constraint\"\n",
        "constraint_2=\"entropy-constraint\""
      ],
      "metadata": {
        "id": "ZCH4MgolT19j"
      },
      "execution_count": 7,
      "outputs": []
    },
    {
      "cell_type": "code",
      "source": [
        "monitor_setup = MonitorSetup(monitor_id=constraint_1)\n",
        "manager = MonitorManager(setup=monitor_setup)\n",
        "\n",
        "# first you need to select the metric column\n",
        "monitor_setup.set_target_columns(columns=[\"image.Brightness.mean\"])\n",
        "monitor_setup.config = FixedThresholdsConfig (\n",
        "    # secondly, you'll need to select a \"metric\" within the column's distribution.\n",
        "    # for single value profile, either \"mean\" or \"median\" will work equally well\n",
        "    metric=SimpleColumnMetric.mean,\n",
        "    # set the upper threshold\n",
        "    upper=70,\n",
        ")\n",
        "\n",
        "monitor_setup.is_constraint = True # important for constraints\n",
        "monitor_setup.disable_target_rollup = True # Must be enabled for individual profiles\n",
        "monitor_setup.apply()\n",
        "manager.save()\n"
      ],
      "metadata": {
        "id": "MTyfsWMYXgPM"
      },
      "execution_count": 8,
      "outputs": []
    },
    {
      "cell_type": "code",
      "source": [
        "monitor_setup = MonitorSetup(monitor_id=constraint_2)\n",
        "manager = MonitorManager(setup=monitor_setup)\n",
        "monitor_setup.set_target_columns(columns=[\"image.entropy\"])\n",
        "monitor_setup.config = FixedThresholdsConfig (\n",
        "    metric=SimpleColumnMetric.median,\n",
        "    upper=8,\n",
        "    lower=4,\n",
        ")\n",
        "\n",
        "monitor_setup.is_constraint = True # important for constraints\n",
        "monitor_setup.disable_target_rollup = True # Must be enabled for individual profiles\n",
        "monitor_setup.apply()\n",
        "manager.save()\n"
      ],
      "metadata": {
        "id": "-A71SLcgT95A"
      },
      "execution_count": 9,
      "outputs": []
    },
    {
      "cell_type": "markdown",
      "source": [
        "# Composite analyzers\n",
        "\n",
        "After creating the underlying analyzers, you can now \"compose\" them.\n",
        "\n",
        "## Conjuction Constraint"
      ],
      "metadata": {
        "id": "4FLewyqUVj1W"
      }
    },
    {
      "cell_type": "code",
      "source": [
        "monitor_setup = MonitorSetup(monitor_id=\"composite-conjunction-monitor\")\n",
        "manager = MonitorManager(setup=monitor_setup)\n",
        "# important: need to use a ConjunctionConfig here\n",
        "# note that we need to append \"-analyzer\" suffixes here\n",
        "monitor_setup.config = ConjunctionConfig(analyzerIds=[f\"{constraint_1}-analyzer\", f\"{constraint_2}-analyzer\"])\n",
        "monitor_setup.is_constraint = True\n",
        "monitor_setup.disable_target_rollup = True\n",
        "monitor_setup.apply()\n",
        "manager.save()\n"
      ],
      "metadata": {
        "id": "BpGuDMEXUBgG"
      },
      "execution_count": null,
      "outputs": []
    },
    {
      "cell_type": "markdown",
      "source": [
        "## Disjunction Constraint"
      ],
      "metadata": {
        "id": "w_jCXsN7W9th"
      }
    },
    {
      "cell_type": "code",
      "source": [
        "\n",
        "monitor_setup = MonitorSetup(monitor_id=\"composite-disjunction-monitor\")\n",
        "manager = MonitorManager(setup=monitor_setup)\n",
        "monitor_setup.config = DisjunctionConfig(analyzerIds=[f\"{constraint_1}-analyzer\", f\"{constraint_2}-analyzer\"])\n",
        "monitor_setup.is_constraint = True\n",
        "monitor_setup.disable_target_rollup = True\n",
        "monitor_setup.apply()\n",
        "manager.save()\n"
      ],
      "metadata": {
        "id": "bUPKWZOtUqWx"
      },
      "execution_count": null,
      "outputs": []
    }
  ]
}